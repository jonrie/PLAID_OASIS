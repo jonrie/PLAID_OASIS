{
 "cells": [
  {
   "cell_type": "code",
   "execution_count": 51,
   "id": "6f8a6030-09ea-4fb9-8a14-c54fc9ece7dc",
   "metadata": {},
   "outputs": [
    {
     "name": "stdout",
     "output_type": "stream",
     "text": [
      "Batch 1 saved to output/OASIS_DILI_ECP_PLAID_Batch1.csv\n",
      "Batch 1: All compounds are matched.\n",
      "Saved output/OASIS_DILI_ECP_source_Batch1.csv\n",
      "Batch 2 saved to output/OASIS_DILI_ECP_PLAID_Batch2.csv\n",
      "Batch 2: All compounds are matched.\n",
      "Saved output/OASIS_DILI_ECP_source_Batch2.csv\n",
      "Batch 3 saved to output/OASIS_DILI_ECP_PLAID_Batch3.csv\n",
      "Batch 3: All compounds are matched.\n",
      "Saved output/OASIS_DILI_ECP_source_Batch3.csv\n",
      "Batch 4 saved to output/OASIS_DILI_ECP_PLAID_Batch4.csv\n",
      "Batch 4: All compounds are matched.\n",
      "Saved output/OASIS_DILI_ECP_source_Batch4.csv\n"
     ]
    }
   ],
   "source": [
    "import pandas as pd\n",
    "import os\n",
    "\n",
    "template_file = \"input/OASIS_DILI_ECP_source.csv\"\n",
    "plaid_file = \"output/OASIS_DILI_ECP_PLAID.csv\"\n",
    "\n",
    "df = pd.read_csv(plaid_file)\n",
    "template_df = pd.read_csv(template_file)\n",
    "\n",
    "unique_plates = df['plateID'].unique()\n",
    "batches = [unique_plates[i::4] for i in range(4)]\n",
    "\n",
    "for batch_index, batch_plates in enumerate(batches, start=1):\n",
    "    batch_df = df[df['plateID'].isin(batch_plates)].copy()\n",
    "    batch_file = f'output/OASIS_DILI_ECP_PLAID_Batch{batch_index}.csv'\n",
    "    batch_df.to_csv(batch_file, index=False)\n",
    "    print(f\"Batch {batch_index} saved to {batch_file}\")\n",
    "\n",
    "    batch_df['cmpdname'] = batch_df['cmpdname'].str.replace('comp', 'Cpd', regex=False)\n",
    "    batch_df['cmpdnum'] = batch_df['cmpdnum'].str.replace('comp', 'Cpd', regex=False)\n",
    "    batch_df['CONCuM'] = batch_df['CONCuM'].apply(lambda x: f'dose{x}' if pd.notnull(x) else x)\n",
    "    batch_df['cmpdnum'] = batch_df['cmpdnum'].str.replace(r'_(\\d+)', r'_dose\\1', regex=True)\n",
    "    batch_df.loc[batch_df['cmpdname'] == 'DMSO', 'cmpdnum'] = batch_df['cmpdnum'].str.replace('_dose\\d+', '', regex=True)\n",
    "    batch_df['cmpdname'] = batch_df['cmpdname'].str.replace(r'ctrl(\\d+)\\)?', r'JUMP\\1', regex=True)\n",
    "    batch_df['cmpdnum'] = batch_df['cmpdnum'].str.replace(r'ctrl(\\d+)\\)?', r'JUMP\\1', regex=True)\n",
    "    batch_df.loc[batch_df['cmpdname'].str.startswith('JUMP'), 'cmpdnum'] = batch_df['cmpdnum'].str.replace(r'_dose1', '', regex=True)\n",
    "\n",
    "    dmso_mask = batch_df['cmpdnum'] == 'DMSO'\n",
    "    if dmso_mask.sum() > 1:\n",
    "        counter = batch_df[dmso_mask].groupby('cmpdnum').cumcount() + 1\n",
    "        batch_df.loc[dmso_mask, 'cmpdnum'] += '_rep' + counter.astype(str)\n",
    "\n",
    "    jump_mask = batch_df['cmpdnum'].str.startswith('JUMP')\n",
    "    if jump_mask.sum() > 1:\n",
    "        counter = batch_df[jump_mask].groupby('cmpdnum').cumcount() + 1\n",
    "        batch_df.loc[jump_mask, 'cmpdnum'] += '_rep' + counter.astype(str)\n",
    "\n",
    "    dmso_mask = template_df['Compound'] == 'DMSO'\n",
    "    if dmso_mask.sum() > 1:\n",
    "        counter = template_df[dmso_mask].groupby('Compound').cumcount() + 1\n",
    "        template_df.loc[dmso_mask, 'Compound'] += '_rep' + counter.astype(str)\n",
    "\n",
    "    template_compounds = set(template_df['Compound'])\n",
    "    unmatched = template_compounds - set(batch_df['cmpdnum'])\n",
    "    if unmatched:\n",
    "        print(f\"Batch {batch_index}: Unmatched compounds: {unmatched}\")\n",
    "    else:\n",
    "        print(f\"Batch {batch_index}: All compounds are matched.\")\n",
    "\n",
    "    for plate in batch_df['plateID'].unique():\n",
    "        plate_data = batch_df[batch_df['plateID'] == plate].copy()\n",
    "\n",
    "        if plate_data['cmpdnum'].duplicated().any():\n",
    "            print(f\"Warning: Duplicate cmpdnum values found in plate {plate}. Resolving...\")\n",
    "            plate_data['cmpdnum'] += '_dup' + plate_data.groupby('cmpdnum').cumcount().astype(str)\n",
    "\n",
    "        merged = template_df.copy()\n",
    "        merged['Dest Well'] = merged['Compound'].map(dict(zip(plate_data['cmpdnum'], plate_data['well'])))\n",
    "        merged['Compound'] = merged['Compound'].str.replace(r'^(DMSO)_rep\\d+$', r'\\1', regex=True)\n",
    "\n",
    "        output_file = f'output/OASIS_DILI_ECP_source_Batch{batch_index}.csv'\n",
    "        merged.to_csv(output_file, index=False)\n",
    "        print(f\"Saved {output_file}\")\n"
   ]
  },
  {
   "cell_type": "code",
   "execution_count": null,
   "id": "9ba7ad9d-9d0c-4e1a-a718-350ef400cd26",
   "metadata": {},
   "outputs": [],
   "source": []
  }
 ],
 "metadata": {
  "kernelspec": {
   "display_name": "Python 3 (ipykernel)",
   "language": "python",
   "name": "python3"
  },
  "language_info": {
   "codemirror_mode": {
    "name": "ipython",
    "version": 3
   },
   "file_extension": ".py",
   "mimetype": "text/x-python",
   "name": "python",
   "nbconvert_exporter": "python",
   "pygments_lexer": "ipython3",
   "version": "3.10.12"
  }
 },
 "nbformat": 4,
 "nbformat_minor": 5
}
