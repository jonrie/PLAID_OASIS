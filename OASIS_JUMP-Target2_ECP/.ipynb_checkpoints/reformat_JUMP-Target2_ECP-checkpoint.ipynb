{
 "cells": [
  {
   "cell_type": "code",
   "execution_count": 3,
   "id": "d9ccc09b-ebc4-4ea4-8291-c3d70d407767",
   "metadata": {
    "scrolled": true
   },
   "outputs": [
    {
     "name": "stdout",
     "output_type": "stream",
     "text": [
      "\n",
      "plate_1... all compounds are matched.\n",
      "Saved output/OASIS_DILI_ECP_source_Batch1.csv\n",
      "\n",
      "plate_2... all compounds are matched.\n",
      "Saved output/OASIS_DILI_ECP_source_Batch2.csv\n",
      "\n",
      "plate_3... all compounds are matched.\n",
      "Saved output/OASIS_DILI_ECP_source_Batch3.csv\n",
      "\n",
      "plate_4... all compounds are matched.\n",
      "Saved output/OASIS_DILI_ECP_source_Batch4.csv\n"
     ]
    }
   ],
   "source": [
    "import pandas as pd\n",
    "import os\n",
    "\n",
    "template_file = \"input/OASIS_JUMP-Target2_ECP_source.csv\"\n",
    "plaid_file    = \"output/OASIS_JUMP-Target2_ECP_PLAID.csv\"\n",
    "\n",
    "df = pd.read_csv(plaid_file)\n",
    "template_df = pd.read_csv(template_file)\n",
    "\n",
    "df['cmpdname'] = df['cmpdname'].str.replace('comp', 'Cpd', regex=False)\n",
    "df['CONCuM'] = 1\n",
    "df['cmpdnum'] = df['cmpdname'] # obs - no doses\n",
    "df.loc[df['cmpdname'] == 'DMSO', 'cmpdnum'] = df['cmpdnum'].str.replace('_dose\\d+', '', regex=True)\n",
    "df['cmpdname'] = df['cmpdname'].str.replace(r'ctrl(\\d+)\\)?', r'JUMP\\1', regex=True)\n",
    "df['cmpdnum'] = df['cmpdnum'].str.replace(r'ctrl(\\d+)\\)?', r'JUMP\\1', regex=True)\n",
    "df.loc[df['cmpdname'].str.startswith('JUMP'), 'cmpdnum'] = df['cmpdnum'].str.replace(r'_dose1', '', regex=True)\n",
    "\n",
    "for plate in df['plateID'].unique():\n",
    "    mask = (df['plateID'] == plate) & (df['cmpdname'].str.startswith('JUMP'))\n",
    "    counter = df[mask].groupby('cmpdnum').cumcount() + 1\n",
    "    df.loc[mask, 'cmpdnum'] += '_rep' + counter.astype(str)\n",
    "\n",
    "# create new csvs with dest wells\n",
    "template_compounds = set(template_df['Compound'].dropna())\n",
    "\n",
    "for plate in df['plateID'].unique():\n",
    "    plate_data = df[df['plateID'] == plate]\n",
    "    unmatched = template_compounds - set(plate_data['cmpdnum'])\n",
    "    print(f\"\\n{plate}...\", \n",
    "          f\"Unmatched compounds: {unmatched}\" if unmatched else \"all compounds are matched.\")\n",
    "\n",
    "    merged = template_df.copy()\n",
    "    merged['Dest Well'] = merged['Compound'].map(dict(zip(plate_data['cmpdnum'], plate_data['well'])))\n",
    "    output_file = f'output/OASIS_DILI_ECP_source_Batch{plate.split(\"_\")[-1]}.csv'\n",
    "    merged.to_csv(output_file, index=False)\n",
    "    print(f\"Saved {output_file}\")"
   ]
  }
 ],
 "metadata": {
  "kernelspec": {
   "display_name": "Python 3 (ipykernel)",
   "language": "python",
   "name": "python3"
  },
  "language_info": {
   "codemirror_mode": {
    "name": "ipython",
    "version": 3
   },
   "file_extension": ".py",
   "mimetype": "text/x-python",
   "name": "python",
   "nbconvert_exporter": "python",
   "pygments_lexer": "ipython3",
   "version": "3.10.12"
  }
 },
 "nbformat": 4,
 "nbformat_minor": 5
}
